{
  "cells": [
    {
      "cell_type": "markdown",
      "metadata": {
        "id": "yclCebBQFn2I"
      },
      "source": [
        "# CNNbasic Assignment#1\n",
        "\n",
        "\n",
        "마크다운과 코드 속 `???` 를 채워주시면 됩니다!-!\n",
        "\n",
        "\n",
        "# AlexNet\n",
        "\n",
        "모델 구조 사진과 논문 사이트입니다.\n",
        "\n",
        "- paper: http://www.cs.toronto.edu/~fritz/absps/imagenet.pdf\n",
        "\n",
        "- dataset: http://image-net.org/challenges/LSVRC/2012/index#task\n",
        "\n",
        "- Model architecture\n",
        "\n",
        "![model_architecture2](https://t1.daumcdn.net/cfile/tistory/99FEB93C5C80B5192E)\n",
        "\n",
        "The second convolutional layer takes as input the (response-normalized\n",
        "and pooled) output of the first convolutional layer and filters it with 256 kernels of size 5 × 5 × 48.\n",
        "The third, fourth, and fifth convolutional layers are connected to one another without any intervening\n",
        "pooling or normalization layers. The third convolutional layer has 384 kernels of size 3 × 3 ×\n",
        "256 connected to the (normalized, pooled) outputs of the second convolutional layer. The fourth\n",
        "convolutional layer has 384 kernels of size 3 × 3 × 192 , and the fifth convolutional layer has 256\n",
        "kernels of size 3 × 3 × 192. The fully-connected layers have 4096 neurons each.\n",
        "\n",
        "\n",
        "### Naive Version\n",
        "CONV_1 - POOL_1 - CONV_2 - POOL_2 - CONV_3 - CONV_4 - CONV_5 - POOL_3 - FC1 - FC2 - FC3 (->SOFTMAX)\n",
        "\n",
        "### detailed\n",
        "CONV_1(ReLU) - POOL_1 - CONV_2(ReLU) - POOL_2 - CONV_3(ReLU) - CONV_4(ReLU) - CONV_5(ReLU) - POOL_3 -(Flatten) FC1(ReLU) - FC2(ReLU) - FC3(->SOFTMAX)"
      ]
    },
    {
      "cell_type": "markdown",
      "metadata": {
        "id": "exDZxL9QFn2L"
      },
      "source": [
        "## Layer 1 is a Convolution Layer_1\n",
        "\n",
        "- **Input Image size**     `227 x 227 x 3`\n",
        "\n",
        "- **Number of filters**     `96`\n",
        "\n",
        "- **Filter size**     `11 x 11 x 3`\n",
        "\n",
        "- **Stride**     `4`\n",
        "\n",
        "- **Layer 1 Output**     `55 x 55 x 96`"
      ]
    },
    {
      "cell_type": "code",
      "execution_count": null,
      "metadata": {
        "id": "PSHEf9xPG0yV"
      },
      "outputs": [],
      "source": [
        "## TODO ##\n",
        "\n",
        "######################################################\n",
        "#  Calculate the number of parameters in this layer  #\n",
        "######################################################\n",
        "\n",
        "Conv_1 = Conv2D(96, kernel_size = (11,11), strides = (4,4), padding = 'valid', activation = 'relu', input_shape = (227,227,3))\n",
        "Conv_1 = 34944\n",
        "# '''Don't forget to include Bias'''"
      ]
    },
    {
      "cell_type": "markdown",
      "metadata": {
        "id": "XvlIbO-uFn2V"
      },
      "source": [
        "## Layer 2 is a Max Pooling_1 Followed by Convolution_1\n",
        "\n",
        "- **Input**     `55 x 55 x 96`\n",
        "\n",
        "- **Max pooling**     `0`  \n",
        "\n",
        "- **Pooling size** (overlapping)      `3 x 3`\n",
        "\n",
        "    * overlapping 중첩되어서 지나감\n",
        "\n",
        "- **Stride**     `2`\n",
        "\n",
        "- **Layer 2 Output**     `27 x 27 x 96`\n",
        "    \n",
        "    * 차원은 변함 없음"
      ]
    },
    {
      "cell_type": "code",
      "execution_count": null,
      "metadata": {
        "id": "HwAPwXLmG0yY"
      },
      "outputs": [],
      "source": [
        "## TODO \n",
        "\n",
        "######################################################\n",
        "#  Calculate the number of parameters in this layer  #\n",
        "######################################################\n",
        "\n",
        "Max_pool_1 = MaxPooling2D(pool_size = (3,3), strides = (2,2))\n",
        "Max_pool_1 = 0"
      ]
    },
    {
      "cell_type": "markdown",
      "metadata": {
        "id": "r70OGeViFn2Z"
      },
      "source": [
        "## Layer 3 is a Convolution Layer_2\n",
        "\n",
        "- **Input**     `27 x 27 x 96`\n",
        "\n",
        "- **Number of filters**     `256`\n",
        "\n",
        "- **Filter size**     `5 x 5 x 48`\n",
        "\n",
        "- **Stride**     `1`\n",
        "\n",
        "- **padding**     `2`\n",
        "\n",
        "- **Layer 3 Output**     `27 x 27 x 256`"
      ]
    },
    {
      "cell_type": "code",
      "execution_count": null,
      "metadata": {
        "id": "JjGmKdT_G0ya"
      },
      "outputs": [],
      "source": [
        "## TODO \n",
        "\n",
        "######################################################\n",
        "#  Calculate the number of parameters in this layer  #\n",
        "######################################################\n",
        "\n",
        "Conv_2 = Conv2D(256, kernel_size=(5, 5), strides=(1, 1), padding='same', activation='relu')\n",
        "Conv_2 = 614656"
      ]
    },
    {
      "cell_type": "markdown",
      "metadata": {
        "id": "DQZhwY4eFn2e"
      },
      "source": [
        "## Layer 4 is a Max Pooling_2 Followed by Convolution_2\n",
        "\n",
        "- **Input**     `27 x 27 x 256`\n",
        "\n",
        "- **Max pooling**     `0`  \n",
        "\n",
        "- **Pooling size**(overlapping)     `3 x 3`\n",
        "\n",
        "- **Stride**     `2`\n",
        "\n",
        "- **Layer 4 Output**     `13 x 13 x 256`"
      ]
    },
    {
      "cell_type": "code",
      "execution_count": null,
      "metadata": {
        "id": "55lD5i7BG0yc"
      },
      "outputs": [],
      "source": [
        "## TODO \n",
        "\n",
        "######################################################\n",
        "#  Calculate the number of parameters in this layer  #\n",
        "######################################################\n",
        "\n",
        "Max_pool_2 = MaxPooling2D(pool_size = (3,3), strides = (2,2))\n",
        "Max_pool_2 = 0"
      ]
    },
    {
      "cell_type": "markdown",
      "metadata": {
        "id": "xPm4PRFAFn2i"
      },
      "source": [
        "## Layer 5 is a Convolution Layer_3\n",
        "\n",
        "- **Input**     `13 x 13 x 256`\n",
        "\n",
        "- **Number of filters**     `384`\n",
        "\n",
        "- **Filter size**     `3 x 3 x 256`\n",
        "\n",
        "- **Stride**     `1`\n",
        "\n",
        "- **padding**     `1`\n",
        "\n",
        "- **Layer 5 Output**     `13 x 13 x 384`\n"
      ]
    },
    {
      "cell_type": "code",
      "execution_count": null,
      "metadata": {
        "id": "fkCh_IDpG0yf"
      },
      "outputs": [],
      "source": [
        "## TODO \n",
        "\n",
        "######################################################\n",
        "#  Calculate the number of parameters in this layer  #\n",
        "######################################################\n",
        "\n",
        "Conv_3 = Conv2D(384, kernel_size=(3, 3), strides=(1, 1), padding='same', activation='relu')\n",
        "Conv_3 = 885120"
      ]
    },
    {
      "cell_type": "markdown",
      "metadata": {
        "id": "Yv57b2vxFn2o"
      },
      "source": [
        "## Layer 6 is  a Convolution Layer_4\n",
        "\n",
        "- **Input**     `13 x 13 x 384`\n",
        "\n",
        "- **Number of filters**     `384`\n",
        "\n",
        "- **Filter size**     `3 x 3 x 192`\n",
        "\n",
        "- **Stride**     `1`\n",
        "\n",
        "- **padding**     `1`\n",
        "\n",
        "- **Layer 6 Output**     `13 x 13 x 384`"
      ]
    },
    {
      "cell_type": "code",
      "execution_count": null,
      "metadata": {
        "id": "A6vR8v3oG0yg"
      },
      "outputs": [],
      "source": [
        "## TODO \n",
        "\n",
        "######################################################\n",
        "#  Calculate the number of parameters in this layer  #\n",
        "######################################################\n",
        "\n",
        "Conv_4 = Conv2D(384, kernel_size=(3, 3), strides=(1, 1), padding='same', activation='relu')\n",
        "Conv_4 = 1327488"
      ]
    },
    {
      "cell_type": "markdown",
      "metadata": {
        "id": "NiQL84J_Fn2s"
      },
      "source": [
        "## Layer 7 is a Convolution Layer_5\n",
        "\n",
        "- **Input**     `13 x 13 x 384`\n",
        "\n",
        "- **Number of filters**     `256`\n",
        "\n",
        "- **Filter size**     `3 x 3 x 192`\n",
        "\n",
        "- **Stride**     `1`\n",
        "\n",
        "- **padding**     `1`\n",
        "\n",
        "- **Layer 7 Output**     `13 x 13 x 256`"
      ]
    },
    {
      "cell_type": "code",
      "execution_count": null,
      "metadata": {
        "id": "RhcxRAl2G0yh"
      },
      "outputs": [],
      "source": [
        "## TODO \n",
        "\n",
        "######################################################\n",
        "#  Calculate the number of parameters in this layer  #\n",
        "######################################################\n",
        "\n",
        "Conv_5 = Conv2D(256, kernel_size=(3, 3), strides=(1, 1), padding='same', activation='relu')\n",
        "Conv_5 = 884992"
      ]
    },
    {
      "cell_type": "markdown",
      "metadata": {
        "id": "WSTe-0IxFn2w"
      },
      "source": [
        "## Layer 8 is a Max Pooling_3 Followed by Convolution_5\n",
        "\n",
        "- **Input**     `13 x 13 x 256`\n",
        "\n",
        "- **Max pooling**     `0`  \n",
        "\n",
        "- **Pooling size**(overlapping)     `3 x 3`\n",
        "\n",
        "- **Stride**     `2`\n",
        "\n",
        "- **Layer 8 Output**     `6 x 6 x 256`"
      ]
    },
    {
      "cell_type": "code",
      "execution_count": null,
      "metadata": {
        "id": "sZiuzgIVG0yi"
      },
      "outputs": [],
      "source": [
        "## TODO \n",
        "\n",
        "######################################################\n",
        "#  Calculate the number of parameters in this layer  #\n",
        "######################################################\n",
        "\n",
        "Max_pool_3 = MaxPooling2D(pool_size = (3,3), strides = (2,2))\n",
        "Max_pool_3 = 0"
      ]
    },
    {
      "cell_type": "markdown",
      "metadata": {
        "id": "798N3vBYFn21"
      },
      "source": [
        "## Layer 9 is a Fully_Connected layer_1\n",
        "\n",
        "- **input**     `6 x 6 x 256`\n",
        "\n",
        "- **flatten**     `9216`\n",
        "\n",
        "- **output size**     `4096`\n",
        "\n",
        "- **N** Number of input data      `4096`"
      ]
    },
    {
      "cell_type": "code",
      "execution_count": null,
      "metadata": {
        "id": "mxMQF2ILG0yj"
      },
      "outputs": [],
      "source": [
        "## TODO \n",
        "\n",
        "######################################################\n",
        "#  Calculate the number of parameters in this layer  #\n",
        "######################################################\n",
        "\n",
        "FC1 = Dense(4096, activation = 'relu')\n",
        "FC1 = 37752832"
      ]
    },
    {
      "cell_type": "markdown",
      "metadata": {
        "id": "kIfvpHPTFn25"
      },
      "source": [
        "## Layer 10 is a Fully_Connected layer_2\n",
        "\n",
        "- **input**     `4096`\n",
        "\n",
        "- **output size**     `4096`\n",
        "\n",
        "- **N** Number of input data =      `4096`"
      ]
    },
    {
      "cell_type": "code",
      "execution_count": null,
      "metadata": {
        "id": "bdFpccdyG0yk"
      },
      "outputs": [],
      "source": [
        "## TODO \n",
        "\n",
        "######################################################\n",
        "#  Calculate the number of parameters in this layer  #\n",
        "######################################################\n",
        "\n",
        "FC2 = Dense(4096, activation = 'relu')\n",
        "FC2 = 16781312"
      ]
    },
    {
      "cell_type": "markdown",
      "metadata": {
        "id": "N8TaZQTBFn29"
      },
      "source": [
        "## Layer 11 is a Fully_Connected layer_3\n",
        "\n",
        "- **input**     `1000`\n",
        "\n",
        "- **output size**     `1000`\n",
        "\n",
        "- **N** Number of input data =      `4096`\n",
        "\n",
        "- **Num_classes** Number of labels =      `1000`"
      ]
    },
    {
      "cell_type": "code",
      "execution_count": null,
      "metadata": {
        "id": "SOXLXGqcG0yu"
      },
      "outputs": [],
      "source": [
        "## TODO \n",
        "\n",
        "######################################################\n",
        "#  Calculate the number of parameters in this layer  #\n",
        "######################################################\n",
        "\n",
        "FC3 = Dense(4096, activation = 'relu')\n",
        "FC3"
      ]
    }
  ],
  "metadata": {
    "colab": {
      "collapsed_sections": [],
      "provenance": []
    },
    "kernelspec": {
      "display_name": "Python 3",
      "language": "python",
      "name": "python3"
    },
    "language_info": {
      "codemirror_mode": {
        "name": "ipython",
        "version": 3
      },
      "file_extension": ".py",
      "mimetype": "text/x-python",
      "name": "python",
      "nbconvert_exporter": "python",
      "pygments_lexer": "ipython3",
      "version": "3.8.3"
    }
  },
  "nbformat": 4,
  "nbformat_minor": 0
}