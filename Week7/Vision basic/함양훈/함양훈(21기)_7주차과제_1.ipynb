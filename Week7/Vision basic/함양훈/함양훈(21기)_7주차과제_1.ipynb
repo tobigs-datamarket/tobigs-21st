{
  "cells": [
    {
      "cell_type": "markdown",
      "metadata": {
        "id": "yclCebBQFn2I"
      },
      "source": [
        "# CNNbasic Assignment#1\n",
        "\n",
        "\n",
        "마크다운과 코드 속 `???` 를 채워주시면 됩니다!-!\n",
        "\n",
        "\n",
        "# AlexNet\n",
        "\n",
        "모델 구조 사진과 논문 사이트입니다.\n",
        "\n",
        "- paper: http://www.cs.toronto.edu/~fritz/absps/imagenet.pdf\n",
        "\n",
        "- dataset: http://image-net.org/challenges/LSVRC/2012/index#task\n",
        "\n",
        "- Model architecture\n",
        "\n",
        "![image.architecture1](attachment:image.png)\n",
        "\n",
        "![model_architecture2](https://t1.daumcdn.net/cfile/tistory/99FEB93C5C80B5192E)\n",
        "\n",
        "The second convolutional layer takes as input the (response-normalized\n",
        "and pooled) output of the first convolutional layer and filters it with 256 kernels of size 5 × 5 × 48.\n",
        "The third, fourth, and fifth convolutional layers are connected to one another without any intervening\n",
        "pooling or normalization layers. The third convolutional layer has 384 kernels of size 3 × 3 ×\n",
        "256 connected to the (normalized, pooled) outputs of the second convolutional layer. The fourth\n",
        "convolutional layer has 384 kernels of size 3 × 3 × 192 , and the fifth convolutional layer has 256\n",
        "kernels of size 3 × 3 × 192. The fully-connected layers have 4096 neurons each.\n",
        "\n",
        "\n",
        "### Naive Version\n",
        "CONV_1 - POOL_1 - CONV_2 - POOL_2 - CONV_3 - CONV_4 - CONV_5 - POOL_3 - FC1 - FC2 - FC3 (->SOFTMAX)\n",
        "\n",
        "### detailed\n",
        "CONV_1(ReLU) - POOL_1 - CONV_2(ReLU) - POOL_2 - CONV_3(ReLU) - CONV_4(ReLU) - CONV_5(ReLU) - POOL_3 -(Flatten) FC1(ReLU) - FC2(ReLU) - FC3(->SOFTMAX)"
      ]
    },
    {
      "cell_type": "markdown",
      "metadata": {
        "id": "exDZxL9QFn2L"
      },
      "source": [
        "## Layer 1 is a Convolution Layer_1\n",
        "\n",
        "- **Input Image**: 일반적으로 224x224x3, 그러나 원래는 227x227x3.\n",
        "- **Number of filters**: 6개의 필터를 사용\n",
        "- **Filter size**: 11x11\n",
        "- **Stride**: 4\n",
        "- **Layer 1 Output**: 출력 크기를 계산하는 공식은 (W−F+2P)/S+1이다, 여기서 W는 입력 크기, F는 필터 크기, P는 패딩, S는 스트라이드. AlexNet에서는 패딩을 사용하지 않으므로 P=0이다. 따라서 출력 크기는 (227-11)/4+1로 계산된다."
      ]
    },
    {
      "cell_type": "code",
      "execution_count": null,
      "metadata": {
        "id": "SJ6eAAiACRtD"
      },
      "outputs": [],
      "source": [
        "## TODO ##\n",
        "\n",
        "######################################################\n",
        "#  Calculate the number of parameters in this layer  #\n",
        "######################################################\n",
        "\n",
        "filter_height = 11\n",
        "filter_width = 11\n",
        "input_channels = 3 # RGB 이미지\n",
        "number_of_filters = 96\n",
        "bias_per_filter = 1\n",
        "\n",
        "# 계산\n",
        "parameters = (filter_height * filter_width * input_channels + bias_per_filter) * number_of_filters\n",
        "parameters\n",
        "# 답: 34,944"
      ]
    },
    {
      "cell_type": "markdown",
      "metadata": {
        "id": "XvlIbO-uFn2V"
      },
      "source": [
        "## Layer 2 is a Max Pooling_1 Followed by Convolution_1\n",
        "\n",
        "- **Input**     `???`\n",
        "\n",
        "- **Max pooling**     `???`  \n",
        "\n",
        "- **Pooling size** (overlapping)      `???`\n",
        "\n",
        "    * overlapping 중첩되어서 지나감\n",
        "\n",
        "- **Stride**     `???`\n",
        "\n",
        "- **Layer 2 Output**     `???`\n",
        "    \n",
        "    * 차원은 변함 없음"
      ]
    },
    {
      "cell_type": "code",
      "execution_count": null,
      "metadata": {
        "id": "hDfjojc4CRtE"
      },
      "outputs": [],
      "source": [
        "## TODO\n",
        "\n",
        "######################################################\n",
        "#  Calculate the number of parameters in this layer  #\n",
        "######################################################\n",
        "\n",
        "Max_pool_1 = ???\n",
        "Max_pool_1"
      ]
    },
    {
      "cell_type": "markdown",
      "metadata": {
        "id": "r70OGeViFn2Z"
      },
      "source": [
        "## Layer 3 is a Convolution Layer_2\n",
        "\n",
        "- **Input**     `???`\n",
        "\n",
        "- **Number of filters**     `???`\n",
        "\n",
        "- **Filter size**     `???`\n",
        "\n",
        "- **Stride**     `???`\n",
        "\n",
        "- **padding**     `???`\n",
        "\n",
        "- **Layer 3 Output**     `???`"
      ]
    },
    {
      "cell_type": "code",
      "execution_count": null,
      "metadata": {
        "id": "rLx14uJ-CRtE"
      },
      "outputs": [],
      "source": [
        "## TODO\n",
        "\n",
        "######################################################\n",
        "#  Calculate the number of parameters in this layer  #\n",
        "######################################################\n",
        "\n",
        "Conv_2 = ???\n",
        "Conv_2"
      ]
    },
    {
      "cell_type": "markdown",
      "metadata": {
        "id": "DQZhwY4eFn2e"
      },
      "source": [
        "## Layer 4 is a Max Pooling_2 Followed by Convolution_2\n",
        "\n",
        "- **Input**     `???`\n",
        "\n",
        "- **Max pooling**     `???`  \n",
        "\n",
        "- **Pooling size**(overlapping)     `???`\n",
        "\n",
        "- **Stride**     `???`\n",
        "\n",
        "- **Layer 4 Output**     `???`"
      ]
    },
    {
      "cell_type": "code",
      "execution_count": null,
      "metadata": {
        "id": "Wex8fLZoCRtE"
      },
      "outputs": [],
      "source": [
        "## TODO\n",
        "\n",
        "######################################################\n",
        "#  Calculate the number of parameters in this layer  #\n",
        "######################################################\n",
        "\n",
        "Max_pool_2 = ???\n",
        "Max_pool_2"
      ]
    },
    {
      "cell_type": "markdown",
      "metadata": {
        "id": "xPm4PRFAFn2i"
      },
      "source": [
        "## Layer 5 is a Convolution Layer_3\n",
        "\n",
        "- **Input**     `???`\n",
        "\n",
        "- **Number of filters**     `???`\n",
        "\n",
        "- **Filter size**     `???`\n",
        "\n",
        "- **Stride**     `???`\n",
        "\n",
        "- **padding**     `???`\n",
        "\n",
        "- **Layer 5 Output**     `???`\n"
      ]
    },
    {
      "cell_type": "code",
      "execution_count": null,
      "metadata": {
        "id": "ZmkJ4maDCRtF"
      },
      "outputs": [],
      "source": [
        "## TODO\n",
        "\n",
        "######################################################\n",
        "#  Calculate the number of parameters in this layer  #\n",
        "######################################################\n",
        "\n",
        "Conv_3 = ???\n",
        "Conv_3"
      ]
    },
    {
      "cell_type": "markdown",
      "metadata": {
        "id": "Yv57b2vxFn2o"
      },
      "source": [
        "## Layer 6 is  a Convolution Layer_4\n",
        "\n",
        "- **Input**     `???`\n",
        "\n",
        "- **Number of filters**     `???`\n",
        "\n",
        "- **Filter size**     `???`\n",
        "\n",
        "- **Stride**     `???`\n",
        "\n",
        "- **padding**     `???`\n",
        "\n",
        "- **Layer 6 Output**     `???`"
      ]
    },
    {
      "cell_type": "code",
      "execution_count": null,
      "metadata": {
        "id": "xoZm1GgJCRtF"
      },
      "outputs": [],
      "source": [
        "## TODO\n",
        "\n",
        "######################################################\n",
        "#  Calculate the number of parameters in this layer  #\n",
        "######################################################\n",
        "\n",
        "Conv_4 = ???\n",
        "Conv_4"
      ]
    },
    {
      "cell_type": "markdown",
      "metadata": {
        "id": "NiQL84J_Fn2s"
      },
      "source": [
        "## Layer 7 is a Convolution Layer_5\n",
        "\n",
        "- **Input**     `???`\n",
        "\n",
        "- **Number of filters**     `???`\n",
        "\n",
        "- **Filter size**     `???`\n",
        "\n",
        "- **Stride**     `???`\n",
        "\n",
        "- **padding**     `???`\n",
        "\n",
        "- **Layer 7 Output**     `???`"
      ]
    },
    {
      "cell_type": "code",
      "execution_count": null,
      "metadata": {
        "id": "HJdQzsFPCRtF"
      },
      "outputs": [],
      "source": [
        "## TODO\n",
        "\n",
        "######################################################\n",
        "#  Calculate the number of parameters in this layer  #\n",
        "######################################################\n",
        "\n",
        "Conv_5 = ???\n",
        "Conv_5"
      ]
    },
    {
      "cell_type": "markdown",
      "metadata": {
        "id": "WSTe-0IxFn2w"
      },
      "source": [
        "## Layer 8 is a Max Pooling_3 Followed by Convolution_5\n",
        "\n",
        "- **Input**     `???`\n",
        "\n",
        "- **Max pooling**     `???`  \n",
        "\n",
        "- **Pooling size**(overlapping)     `???`\n",
        "\n",
        "- **Stride**     `???`\n",
        "\n",
        "- **Layer 8 Output**     `???`"
      ]
    },
    {
      "cell_type": "code",
      "execution_count": null,
      "metadata": {
        "id": "kwaI4u61CRtF"
      },
      "outputs": [],
      "source": [
        "## TODO\n",
        "\n",
        "######################################################\n",
        "#  Calculate the number of parameters in this layer  #\n",
        "######################################################\n",
        "\n",
        "Max_pool_3 = ???\n",
        "Max_pool_3"
      ]
    },
    {
      "cell_type": "markdown",
      "metadata": {
        "id": "798N3vBYFn21"
      },
      "source": [
        "## Layer 9 is a Fully_Connected layer_1\n",
        "\n",
        "- **input**     `???`\n",
        "\n",
        "- **flatten**     `???`\n",
        "\n",
        "- **output size**     `???`\n",
        "\n",
        "- **N** Number of input data      `???`"
      ]
    },
    {
      "cell_type": "code",
      "execution_count": null,
      "metadata": {
        "id": "YU2i-e-1CRtF"
      },
      "outputs": [],
      "source": [
        "## TODO\n",
        "\n",
        "######################################################\n",
        "#  Calculate the number of parameters in this layer  #\n",
        "######################################################\n",
        "\n",
        "FC1 = ???\n",
        "FC1"
      ]
    },
    {
      "cell_type": "markdown",
      "metadata": {
        "id": "kIfvpHPTFn25"
      },
      "source": [
        "## Layer 10 is a Fully_Connected layer_2\n",
        "\n",
        "- **input**     `???`\n",
        "\n",
        "- **output size**     `???`\n",
        "\n",
        "- **N** Number of input data =      `???`"
      ]
    },
    {
      "cell_type": "code",
      "execution_count": null,
      "metadata": {
        "id": "HMMIwk03CRtF"
      },
      "outputs": [],
      "source": [
        "## TODO\n",
        "\n",
        "######################################################\n",
        "#  Calculate the number of parameters in this layer  #\n",
        "######################################################\n",
        "\n",
        "FC2 = ???\n",
        "FC2"
      ]
    },
    {
      "cell_type": "markdown",
      "metadata": {
        "id": "N8TaZQTBFn29"
      },
      "source": [
        "## Layer 11 is a Fully_Connected layer_3\n",
        "\n",
        "- **input**     `???`\n",
        "\n",
        "- **output size**     `???`\n",
        "\n",
        "- **N** Number of input data =      `???`\n",
        "\n",
        "- **Num_classes** Number of labels =      `???`"
      ]
    },
    {
      "cell_type": "code",
      "execution_count": null,
      "metadata": {
        "id": "eh8KJp0_CRtF"
      },
      "outputs": [],
      "source": [
        "## TODO\n",
        "\n",
        "######################################################\n",
        "#  Calculate the number of parameters in this layer  #\n",
        "######################################################\n",
        "\n",
        "FC3 = ???\n",
        "FC3"
      ]
    }
  ],
  "metadata": {
    "colab": {
      "provenance": []
    },
    "kernelspec": {
      "display_name": "Python 3 (ipykernel)",
      "language": "python",
      "name": "python3"
    },
    "language_info": {
      "codemirror_mode": {
        "name": "ipython",
        "version": 3
      },
      "file_extension": ".py",
      "mimetype": "text/x-python",
      "name": "python",
      "nbconvert_exporter": "python",
      "pygments_lexer": "ipython3",
      "version": "3.7.3"
    },
    "toc": {
      "base_numbering": 1,
      "nav_menu": {},
      "number_sections": true,
      "sideBar": true,
      "skip_h1_title": false,
      "title_cell": "Table of Contents",
      "title_sidebar": "Contents",
      "toc_cell": false,
      "toc_position": {},
      "toc_section_display": true,
      "toc_window_display": false
    }
  },
  "nbformat": 4,
  "nbformat_minor": 0
}