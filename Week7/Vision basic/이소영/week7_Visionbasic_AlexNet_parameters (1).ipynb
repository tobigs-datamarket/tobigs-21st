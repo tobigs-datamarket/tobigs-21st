{
  "cells": [
    {
      "cell_type": "markdown",
      "metadata": {
        "id": "yclCebBQFn2I"
      },
      "source": [
        "# CNNbasic Assignment#1\n",
        "\n",
        "\n",
        "마크다운과 코드 속 `???` 를 채워주시면 됩니다!-!\n",
        "\n",
        "\n",
        "# AlexNet\n",
        "\n",
        "모델 구조 사진과 논문 사이트입니다.\n",
        "\n",
        "- paper: http://www.cs.toronto.edu/~fritz/absps/imagenet.pdf\n",
        "\n",
        "- dataset: http://image-net.org/challenges/LSVRC/2012/index#task\n",
        "\n",
        "- Model architecture\n",
        "\n",
        "![image.architecture1](attachment:image.png)\n",
        "\n",
        "![model_architecture2](https://t1.daumcdn.net/cfile/tistory/99FEB93C5C80B5192E)\n",
        "\n",
        "The second convolutional layer takes as input the (response-normalized\n",
        "and pooled) output of the first convolutional layer and filters it with 256 kernels of size 5 × 5 × 48.\n",
        "The third, fourth, and fifth convolutional layers are connected to one another without any intervening\n",
        "pooling or normalization layers. The third convolutional layer has 384 kernels of size 3 × 3 ×\n",
        "256 connected to the (normalized, pooled) outputs of the second convolutional layer. The fourth\n",
        "convolutional layer has 384 kernels of size 3 × 3 × 192 , and the fifth convolutional layer has 256\n",
        "kernels of size 3 × 3 × 192. The fully-connected layers have 4096 neurons each.\n",
        "\n",
        "\n",
        "### Naive Version\n",
        "CONV_1 - POOL_1 - CONV_2 - POOL_2 - CONV_3 - CONV_4 - CONV_5 - POOL_3 - FC1 - FC2 - FC3 (->SOFTMAX)\n",
        "\n",
        "### detailed\n",
        "CONV_1(ReLU) - POOL_1 - CONV_2(ReLU) - POOL_2 - CONV_3(ReLU) - CONV_4(ReLU) - CONV_5(ReLU) - POOL_3 -(Flatten) FC1(ReLU) - FC2(ReLU) - FC3(->SOFTMAX)"
      ]
    },
    {
      "cell_type": "markdown",
      "metadata": {
        "id": "exDZxL9QFn2L"
      },
      "source": [
        "## Layer 1 is a Convolution Layer_1\n",
        "\n",
        "- **Input Image size**     `227×227×3`\n",
        "\n",
        "- **Number of filters**     `96`\n",
        "\n",
        "- **Filter size**     `11×11×3`\n",
        "\n",
        "- **Stride**     `4`\n",
        "\n",
        "- **Layer 1 Output**     `55×55×96`"
      ]
    },
    {
      "cell_type": "code",
      "execution_count": 9,
      "metadata": {
        "colab": {
          "base_uri": "https://localhost:8080/"
        },
        "id": "9KU2l3a72yrB",
        "outputId": "334e9ab0-aec1-4835-96b6-8b85fb55e462"
      },
      "outputs": [
        {
          "output_type": "execute_result",
          "data": {
            "text/plain": [
              "34944"
            ]
          },
          "metadata": {},
          "execution_count": 9
        }
      ],
      "source": [
        "## TODO ##\n",
        "\n",
        "######################################################\n",
        "#  Calculate the number of parameters in this layer  #\n",
        "######################################################\n",
        "\n",
        "Conv_1 = (11*11*3+1)*96\n",
        "Conv_1\n",
        "# '''Don't forget to include Bias'''"
      ]
    },
    {
      "cell_type": "markdown",
      "metadata": {
        "id": "XvlIbO-uFn2V"
      },
      "source": [
        "## Layer 2 is a Max Pooling_1 Followed by Convolution_1\n",
        "\n",
        "- **Input**     `55×55×96`\n",
        "\n",
        "- **Max pooling**     `3×3`  \n",
        "\n",
        "- **Pooling size** (overlapping)      `3`\n",
        "\n",
        "    * overlapping 중첩되어서 지나감\n",
        "\n",
        "- **Stride**     `2`\n",
        "\n",
        "- **Layer 2 Output**     `27×27×96`\n",
        "    \n",
        "    * 차원은 변함 없음"
      ]
    },
    {
      "cell_type": "code",
      "execution_count": 10,
      "metadata": {
        "colab": {
          "base_uri": "https://localhost:8080/"
        },
        "id": "Gsgh0sDS2yrC",
        "outputId": "153b8b11-a2c1-4a58-89cf-519c6468fe09"
      },
      "outputs": [
        {
          "output_type": "execute_result",
          "data": {
            "text/plain": [
              "0"
            ]
          },
          "metadata": {},
          "execution_count": 10
        }
      ],
      "source": [
        "## TODO\n",
        "\n",
        "######################################################\n",
        "#  Calculate the number of parameters in this layer  #\n",
        "######################################################\n",
        "\n",
        "Max_pool_1 = 0\n",
        "Max_pool_1"
      ]
    },
    {
      "cell_type": "markdown",
      "metadata": {
        "id": "r70OGeViFn2Z"
      },
      "source": [
        "## Layer 3 is a Convolution Layer_2\n",
        "\n",
        "- **Input**     `27×27×96`\n",
        "\n",
        "- **Number of filters**     `256`\n",
        "\n",
        "- **Filter size**     `5×5`\n",
        "\n",
        "- **Stride**     `1`\n",
        "\n",
        "- **padding**     `2`\n",
        "\n",
        "- **Layer 3 Output**     `27×27×256`"
      ]
    },
    {
      "cell_type": "code",
      "execution_count": 11,
      "metadata": {
        "colab": {
          "base_uri": "https://localhost:8080/"
        },
        "id": "A8orY59x2yrD",
        "outputId": "f24d93b9-57ba-4db0-f40f-b083ba113447"
      },
      "outputs": [
        {
          "output_type": "execute_result",
          "data": {
            "text/plain": [
              "614656"
            ]
          },
          "metadata": {},
          "execution_count": 11
        }
      ],
      "source": [
        "## TODO\n",
        "\n",
        "######################################################\n",
        "#  Calculate the number of parameters in this layer  #\n",
        "######################################################\n",
        "\n",
        "Conv_2 = (5*5*96+1)*256\n",
        "Conv_2"
      ]
    },
    {
      "cell_type": "markdown",
      "metadata": {
        "id": "DQZhwY4eFn2e"
      },
      "source": [
        "## Layer 4 is a Max Pooling_2 Followed by Convolution_2\n",
        "\n",
        "- **Input**     `27×27×256`\n",
        "\n",
        "- **Max pooling**     `3×3`  \n",
        "\n",
        "- **Pooling size**(overlapping)     `3`\n",
        "\n",
        "- **Stride**     `2`\n",
        "\n",
        "- **Layer 4 Output**     `13×13×256`"
      ]
    },
    {
      "cell_type": "code",
      "execution_count": 12,
      "metadata": {
        "colab": {
          "base_uri": "https://localhost:8080/"
        },
        "id": "LAB0WAMm2yrD",
        "outputId": "2e08a6d7-127c-4291-ef43-165b39561d20"
      },
      "outputs": [
        {
          "output_type": "execute_result",
          "data": {
            "text/plain": [
              "0"
            ]
          },
          "metadata": {},
          "execution_count": 12
        }
      ],
      "source": [
        "## TODO\n",
        "\n",
        "######################################################\n",
        "#  Calculate the number of parameters in this layer  #\n",
        "######################################################\n",
        "\n",
        "Max_pool_2 = 0\n",
        "Max_pool_2"
      ]
    },
    {
      "cell_type": "markdown",
      "metadata": {
        "id": "xPm4PRFAFn2i"
      },
      "source": [
        "## Layer 5 is a Convolution Layer_3\n",
        "\n",
        "- **Input**     `13×13×256`\n",
        "\n",
        "- **Number of filters**     `384`\n",
        "\n",
        "- **Filter size**     `3×3`\n",
        "\n",
        "- **Stride**     `1`\n",
        "\n",
        "- **padding**     `1`\n",
        "\n",
        "- **Layer 5 Output**     `13×13×384`\n"
      ]
    },
    {
      "cell_type": "code",
      "execution_count": 13,
      "metadata": {
        "colab": {
          "base_uri": "https://localhost:8080/"
        },
        "id": "AiHzX5OQ2yrE",
        "outputId": "3249318d-e42f-4116-a446-bf6f088cc23a"
      },
      "outputs": [
        {
          "output_type": "execute_result",
          "data": {
            "text/plain": [
              "885120"
            ]
          },
          "metadata": {},
          "execution_count": 13
        }
      ],
      "source": [
        "## TODO\n",
        "\n",
        "######################################################\n",
        "#  Calculate the number of parameters in this layer  #\n",
        "######################################################\n",
        "\n",
        "Conv_3 = (3*3*256+1)*384\n",
        "Conv_3"
      ]
    },
    {
      "cell_type": "markdown",
      "metadata": {
        "id": "Yv57b2vxFn2o"
      },
      "source": [
        "## Layer 6 is  a Convolution Layer_4\n",
        "\n",
        "- **Input**     `13×13×384`\n",
        "\n",
        "- **Number of filters**     `384`\n",
        "\n",
        "- **Filter size**     `3×3`\n",
        "\n",
        "- **Stride**     `1`\n",
        "\n",
        "- **padding**     `1`\n",
        "\n",
        "- **Layer 6 Output**     `13×13×384`"
      ]
    },
    {
      "cell_type": "code",
      "execution_count": 14,
      "metadata": {
        "colab": {
          "base_uri": "https://localhost:8080/"
        },
        "id": "Xh6meB112yrE",
        "outputId": "1b02bfe9-09ff-48c3-e2c6-f4408f750e0a"
      },
      "outputs": [
        {
          "output_type": "execute_result",
          "data": {
            "text/plain": [
              "1327488"
            ]
          },
          "metadata": {},
          "execution_count": 14
        }
      ],
      "source": [
        "## TODO\n",
        "\n",
        "######################################################\n",
        "#  Calculate the number of parameters in this layer  #\n",
        "######################################################\n",
        "\n",
        "Conv_4 = (3*3*384+1)*384\n",
        "Conv_4"
      ]
    },
    {
      "cell_type": "markdown",
      "metadata": {
        "id": "NiQL84J_Fn2s"
      },
      "source": [
        "## Layer 7 is a Convolution Layer_5\n",
        "\n",
        "- **Input**     `13×13×384`\n",
        "\n",
        "- **Number of filters**     `256`\n",
        "\n",
        "- **Filter size**     `3×3`\n",
        "\n",
        "- **Stride**     `1`\n",
        "\n",
        "- **padding**     `1`\n",
        "\n",
        "- **Layer 7 Output**     `13×13×256`"
      ]
    },
    {
      "cell_type": "code",
      "execution_count": 16,
      "metadata": {
        "colab": {
          "base_uri": "https://localhost:8080/"
        },
        "id": "N3RoUMyi2yrF",
        "outputId": "b8eeb6de-8e00-4ed0-9e6f-4ad171ca4a60"
      },
      "outputs": [
        {
          "output_type": "execute_result",
          "data": {
            "text/plain": [
              "884992"
            ]
          },
          "metadata": {},
          "execution_count": 16
        }
      ],
      "source": [
        "## TODO\n",
        "\n",
        "######################################################\n",
        "#  Calculate the number of parameters in this layer  #\n",
        "######################################################\n",
        "\n",
        "Conv_5 = (3*3*384+1)*256\n",
        "Conv_5"
      ]
    },
    {
      "cell_type": "markdown",
      "metadata": {
        "id": "WSTe-0IxFn2w"
      },
      "source": [
        "## Layer 8 is a Max Pooling_3 Followed by Convolution_5\n",
        "\n",
        "- **Input**     `13×13×256`\n",
        "\n",
        "- **Max pooling**     `3×3`  \n",
        "\n",
        "- **Pooling size**(overlapping)     `3`\n",
        "\n",
        "- **Stride**     `2`\n",
        "\n",
        "- **Layer 8 Output**     `6×6×256`"
      ]
    },
    {
      "cell_type": "code",
      "execution_count": 17,
      "metadata": {
        "colab": {
          "base_uri": "https://localhost:8080/"
        },
        "id": "5plgZh7_2yrF",
        "outputId": "571b33dc-09c1-4ba0-adb5-5aa221df0c18"
      },
      "outputs": [
        {
          "output_type": "execute_result",
          "data": {
            "text/plain": [
              "0"
            ]
          },
          "metadata": {},
          "execution_count": 17
        }
      ],
      "source": [
        "## TODO\n",
        "\n",
        "######################################################\n",
        "#  Calculate the number of parameters in this layer  #\n",
        "######################################################\n",
        "\n",
        "Max_pool_3 = 0\n",
        "Max_pool_3"
      ]
    },
    {
      "cell_type": "markdown",
      "metadata": {
        "id": "798N3vBYFn21"
      },
      "source": [
        "## Layer 9 is a Fully_Connected layer_1\n",
        "\n",
        "- **input**     `6×6×256`\n",
        "\n",
        "- **flatten**     `9216`\n",
        "\n",
        "- **output size**     `4096`\n",
        "\n",
        "- **N** Number of input data      `9216`"
      ]
    },
    {
      "cell_type": "code",
      "execution_count": 18,
      "metadata": {
        "colab": {
          "base_uri": "https://localhost:8080/"
        },
        "id": "enfgpNwu2yrF",
        "outputId": "80dfba35-e38e-412d-8806-172f95f4a163"
      },
      "outputs": [
        {
          "output_type": "execute_result",
          "data": {
            "text/plain": [
              "37752832"
            ]
          },
          "metadata": {},
          "execution_count": 18
        }
      ],
      "source": [
        "## TODO\n",
        "\n",
        "######################################################\n",
        "#  Calculate the number of parameters in this layer  #\n",
        "######################################################\n",
        "\n",
        "FC1 = (6*6*256+1)*4096\n",
        "FC1"
      ]
    },
    {
      "cell_type": "markdown",
      "metadata": {
        "id": "kIfvpHPTFn25"
      },
      "source": [
        "## Layer 10 is a Fully_Connected layer_2\n",
        "\n",
        "- **input**     `4096`\n",
        "\n",
        "- **output size**     `4096`\n",
        "\n",
        "- **N** Number of input data =      `4096`"
      ]
    },
    {
      "cell_type": "code",
      "execution_count": 19,
      "metadata": {
        "colab": {
          "base_uri": "https://localhost:8080/"
        },
        "id": "dXE-TCPx2yrF",
        "outputId": "1441e616-d967-44f7-ec7f-5106a55d3a72"
      },
      "outputs": [
        {
          "output_type": "execute_result",
          "data": {
            "text/plain": [
              "16781312"
            ]
          },
          "metadata": {},
          "execution_count": 19
        }
      ],
      "source": [
        "## TODO\n",
        "\n",
        "######################################################\n",
        "#  Calculate the number of parameters in this layer  #\n",
        "######################################################\n",
        "\n",
        "FC2 = (4096+1)*4096\n",
        "FC2"
      ]
    },
    {
      "cell_type": "markdown",
      "metadata": {
        "id": "N8TaZQTBFn29"
      },
      "source": [
        "## Layer 11 is a Fully_Connected layer_3\n",
        "\n",
        "- **input**     `4096`\n",
        "\n",
        "- **output size**     `1000`\n",
        "\n",
        "- **N** Number of input data =      `1000`\n",
        "\n",
        "- **Num_classes** Number of labels =      `1000`"
      ]
    },
    {
      "cell_type": "code",
      "execution_count": 20,
      "metadata": {
        "colab": {
          "base_uri": "https://localhost:8080/"
        },
        "id": "n9HJPfs62yrF",
        "outputId": "0a3fc272-f77c-4d41-c984-1aa929068f47"
      },
      "outputs": [
        {
          "output_type": "execute_result",
          "data": {
            "text/plain": [
              "4097000"
            ]
          },
          "metadata": {},
          "execution_count": 20
        }
      ],
      "source": [
        "## TODO\n",
        "\n",
        "######################################################\n",
        "#  Calculate the number of parameters in this layer  #\n",
        "######################################################\n",
        "\n",
        "FC3 = (4096+1)*1000\n",
        "FC3"
      ]
    }
  ],
  "metadata": {
    "colab": {
      "provenance": []
    },
    "kernelspec": {
      "display_name": "Python 3 (ipykernel)",
      "language": "python",
      "name": "python3"
    },
    "language_info": {
      "codemirror_mode": {
        "name": "ipython",
        "version": 3
      },
      "file_extension": ".py",
      "mimetype": "text/x-python",
      "name": "python",
      "nbconvert_exporter": "python",
      "pygments_lexer": "ipython3",
      "version": "3.7.3"
    },
    "toc": {
      "base_numbering": 1,
      "nav_menu": {},
      "number_sections": true,
      "sideBar": true,
      "skip_h1_title": false,
      "title_cell": "Table of Contents",
      "title_sidebar": "Contents",
      "toc_cell": false,
      "toc_position": {},
      "toc_section_display": true,
      "toc_window_display": false
    }
  },
  "nbformat": 4,
  "nbformat_minor": 0
}