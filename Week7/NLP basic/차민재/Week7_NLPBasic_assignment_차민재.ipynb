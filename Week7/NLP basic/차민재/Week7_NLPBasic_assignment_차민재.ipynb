{
 "cells": [
  {
   "cell_type": "code",
   "execution_count": 88,
   "id": "a2fb523b",
   "metadata": {},
   "outputs": [],
   "source": [
    "import pandas as pd\n",
    "import numpy as np\n",
    "import re\n",
    "\n",
    "import nltk\n",
    "from nltk.stem import PorterStemmer\n",
    "from nltk.tokenize import word_tokenize\n",
    "from nltk.corpus import stopwords\n",
    "from gensim.models import FastText\n",
    "from gensim.models import Word2Vec\n",
    "\n",
    "from sklearn.model_selection import train_test_split\n",
    "from sklearn.svm import SVC\n",
    "from sklearn.metrics import accuracy_score, classification_report, f1_score"
   ]
  },
  {
   "cell_type": "code",
   "execution_count": null,
   "id": "84a03160",
   "metadata": {},
   "outputs": [],
   "source": [
    "'''\n",
    " 데이터 확인하기\n",
    " 불용어 처리, 특수 문자 제거 등 전처리 포함하여 tokenizing하기\n",
    " One-hot encoding, Word2Vec, CBOW, Skip-gram, GloVe 등의 방법으로 임베딩하기\n",
    " 유사도, Wordcloud, 이진 분류, 그래프 해석 등 유의미한 해석 도출하기\n",
    " 토크나이저, 임베딩 모델 선택 과정, 인사이트 해석 주석으로 달기\n",
    "'''"
   ]
  },
  {
   "cell_type": "code",
   "execution_count": 60,
   "id": "ee563885",
   "metadata": {},
   "outputs": [
    {
     "data": {
      "text/html": [
       "<div>\n",
       "<style scoped>\n",
       "    .dataframe tbody tr th:only-of-type {\n",
       "        vertical-align: middle;\n",
       "    }\n",
       "\n",
       "    .dataframe tbody tr th {\n",
       "        vertical-align: top;\n",
       "    }\n",
       "\n",
       "    .dataframe thead th {\n",
       "        text-align: right;\n",
       "    }\n",
       "</style>\n",
       "<table border=\"1\" class=\"dataframe\">\n",
       "  <thead>\n",
       "    <tr style=\"text-align: right;\">\n",
       "      <th></th>\n",
       "      <th>v1</th>\n",
       "      <th>v2</th>\n",
       "    </tr>\n",
       "  </thead>\n",
       "  <tbody>\n",
       "    <tr>\n",
       "      <th>0</th>\n",
       "      <td>ham</td>\n",
       "      <td>Go until jurong point, crazy.. Available only ...</td>\n",
       "    </tr>\n",
       "    <tr>\n",
       "      <th>1</th>\n",
       "      <td>ham</td>\n",
       "      <td>Ok lar... Joking wif u oni...</td>\n",
       "    </tr>\n",
       "    <tr>\n",
       "      <th>2</th>\n",
       "      <td>spam</td>\n",
       "      <td>Free entry in 2 a wkly comp to win FA Cup fina...</td>\n",
       "    </tr>\n",
       "    <tr>\n",
       "      <th>3</th>\n",
       "      <td>ham</td>\n",
       "      <td>U dun say so early hor... U c already then say...</td>\n",
       "    </tr>\n",
       "    <tr>\n",
       "      <th>4</th>\n",
       "      <td>ham</td>\n",
       "      <td>Nah I don't think he goes to usf, he lives aro...</td>\n",
       "    </tr>\n",
       "  </tbody>\n",
       "</table>\n",
       "</div>"
      ],
      "text/plain": [
       "     v1                                                 v2\n",
       "0   ham  Go until jurong point, crazy.. Available only ...\n",
       "1   ham                      Ok lar... Joking wif u oni...\n",
       "2  spam  Free entry in 2 a wkly comp to win FA Cup fina...\n",
       "3   ham  U dun say so early hor... U c already then say...\n",
       "4   ham  Nah I don't think he goes to usf, he lives aro..."
      ]
     },
     "execution_count": 60,
     "metadata": {},
     "output_type": "execute_result"
    }
   ],
   "source": [
    "df = pd.read_csv(\"../spam.csv\")\n",
    "df.head()"
   ]
  },
  {
   "cell_type": "code",
   "execution_count": 11,
   "id": "7e0687ad",
   "metadata": {},
   "outputs": [
    {
     "name": "stdout",
     "output_type": "stream",
     "text": [
      "<class 'pandas.core.frame.DataFrame'>\n",
      "RangeIndex: 5572 entries, 0 to 5571\n",
      "Data columns (total 2 columns):\n",
      " #   Column  Non-Null Count  Dtype \n",
      "---  ------  --------------  ----- \n",
      " 0   v1      5572 non-null   object\n",
      " 1   v2      5572 non-null   object\n",
      "dtypes: object(2)\n",
      "memory usage: 87.2+ KB\n"
     ]
    }
   ],
   "source": [
    "df.info()"
   ]
  },
  {
   "cell_type": "code",
   "execution_count": 7,
   "id": "364752ff",
   "metadata": {},
   "outputs": [
    {
     "data": {
      "text/plain": [
       "v1    0\n",
       "v2    0\n",
       "dtype: int64"
      ]
     },
     "execution_count": 7,
     "metadata": {},
     "output_type": "execute_result"
    }
   ],
   "source": [
    "df.isnull().sum()"
   ]
  },
  {
   "cell_type": "code",
   "execution_count": 9,
   "id": "a9cefad6",
   "metadata": {},
   "outputs": [
    {
     "data": {
      "text/plain": [
       "ham     4825\n",
       "spam     747\n",
       "Name: v1, dtype: int64"
      ]
     },
     "execution_count": 9,
     "metadata": {},
     "output_type": "execute_result"
    }
   ],
   "source": [
    "df['v1'].value_counts()"
   ]
  },
  {
   "cell_type": "code",
   "execution_count": 46,
   "id": "fd1f5053",
   "metadata": {},
   "outputs": [
    {
     "data": {
      "text/html": [
       "<div>\n",
       "<style scoped>\n",
       "    .dataframe tbody tr th:only-of-type {\n",
       "        vertical-align: middle;\n",
       "    }\n",
       "\n",
       "    .dataframe tbody tr th {\n",
       "        vertical-align: top;\n",
       "    }\n",
       "\n",
       "    .dataframe thead th {\n",
       "        text-align: right;\n",
       "    }\n",
       "</style>\n",
       "<table border=\"1\" class=\"dataframe\">\n",
       "  <thead>\n",
       "    <tr style=\"text-align: right;\">\n",
       "      <th></th>\n",
       "      <th>v1</th>\n",
       "      <th>v2</th>\n",
       "    </tr>\n",
       "  </thead>\n",
       "  <tbody>\n",
       "    <tr>\n",
       "      <th>102</th>\n",
       "      <td>ham</td>\n",
       "      <td>As per your request 'Melle Melle (Oru Minnamin...</td>\n",
       "    </tr>\n",
       "    <tr>\n",
       "      <th>153</th>\n",
       "      <td>ham</td>\n",
       "      <td>As per your request 'Melle Melle (Oru Minnamin...</td>\n",
       "    </tr>\n",
       "    <tr>\n",
       "      <th>206</th>\n",
       "      <td>ham</td>\n",
       "      <td>As I entered my cabin my PA said, '' Happy B'd...</td>\n",
       "    </tr>\n",
       "    <tr>\n",
       "      <th>222</th>\n",
       "      <td>ham</td>\n",
       "      <td>Sorry, I'll call later</td>\n",
       "    </tr>\n",
       "    <tr>\n",
       "      <th>325</th>\n",
       "      <td>ham</td>\n",
       "      <td>No calls..messages..missed calls</td>\n",
       "    </tr>\n",
       "    <tr>\n",
       "      <th>...</th>\n",
       "      <td>...</td>\n",
       "      <td>...</td>\n",
       "    </tr>\n",
       "    <tr>\n",
       "      <th>5524</th>\n",
       "      <td>spam</td>\n",
       "      <td>You are awarded a SiPix Digital Camera! call 0...</td>\n",
       "    </tr>\n",
       "    <tr>\n",
       "      <th>5535</th>\n",
       "      <td>ham</td>\n",
       "      <td>I know you are thinkin malaria. But relax, chi...</td>\n",
       "    </tr>\n",
       "    <tr>\n",
       "      <th>5539</th>\n",
       "      <td>ham</td>\n",
       "      <td>Just sleeping..and surfing</td>\n",
       "    </tr>\n",
       "    <tr>\n",
       "      <th>5553</th>\n",
       "      <td>ham</td>\n",
       "      <td>Hahaha..use your brain dear</td>\n",
       "    </tr>\n",
       "    <tr>\n",
       "      <th>5558</th>\n",
       "      <td>ham</td>\n",
       "      <td>Sorry, I'll call later</td>\n",
       "    </tr>\n",
       "  </tbody>\n",
       "</table>\n",
       "<p>403 rows × 2 columns</p>\n",
       "</div>"
      ],
      "text/plain": [
       "        v1                                                 v2\n",
       "102    ham  As per your request 'Melle Melle (Oru Minnamin...\n",
       "153    ham  As per your request 'Melle Melle (Oru Minnamin...\n",
       "206    ham  As I entered my cabin my PA said, '' Happy B'd...\n",
       "222    ham                             Sorry, I'll call later\n",
       "325    ham                   No calls..messages..missed calls\n",
       "...    ...                                                ...\n",
       "5524  spam  You are awarded a SiPix Digital Camera! call 0...\n",
       "5535   ham  I know you are thinkin malaria. But relax, chi...\n",
       "5539   ham                         Just sleeping..and surfing\n",
       "5553   ham                        Hahaha..use your brain dear\n",
       "5558   ham                             Sorry, I'll call later\n",
       "\n",
       "[403 rows x 2 columns]"
      ]
     },
     "execution_count": 46,
     "metadata": {},
     "output_type": "execute_result"
    }
   ],
   "source": [
    "df[df.duplicated()]"
   ]
  },
  {
   "cell_type": "markdown",
   "id": "69809f92",
   "metadata": {},
   "source": [
    "5500여개의 데이터 중 약 400여개의 중복 데이터가 확인되었으며 모두 제거한다."
   ]
  },
  {
   "cell_type": "code",
   "execution_count": 61,
   "id": "12d67819",
   "metadata": {},
   "outputs": [],
   "source": [
    "# 중복 제거\n",
    "df.drop_duplicates(subset='v2',keep='first', inplace = True)"
   ]
  },
  {
   "cell_type": "code",
   "execution_count": 78,
   "id": "8cf2bacb",
   "metadata": {},
   "outputs": [],
   "source": [
    "df.replace({'v1': {'spam': 1, 'ham': 0}}, inplace = True)"
   ]
  },
  {
   "cell_type": "markdown",
   "id": "c03acb0f",
   "metadata": {},
   "source": [
    "## 정제"
   ]
  },
  {
   "cell_type": "code",
   "execution_count": 62,
   "id": "a4d326a5",
   "metadata": {},
   "outputs": [],
   "source": [
    "def cleaning(text) :\n",
    "    text = text.lower() \n",
    "    \n",
    "    pattern = '[^a-zA-Z]' # 특수 문자 제거\n",
    "    text = re.sub(pattern = pattern, repl = ' ', string = text)\n",
    "    \n",
    "    pattern = r'\\s+'      # 연속 공백 제거\n",
    "    text = re.sub(pattern = pattern, repl = ' ', string = text)\n",
    "    \n",
    "    return text"
   ]
  },
  {
   "cell_type": "code",
   "execution_count": 63,
   "id": "f74c38a4",
   "metadata": {},
   "outputs": [],
   "source": [
    "df['v2'] = df['v2'].apply(cleaning)"
   ]
  },
  {
   "cell_type": "markdown",
   "id": "f2ebe8dd",
   "metadata": {},
   "source": [
    "## Tokenization"
   ]
  },
  {
   "cell_type": "code",
   "execution_count": 64,
   "id": "dc432a8a",
   "metadata": {},
   "outputs": [
    {
     "data": {
      "text/plain": [
       "['i', 'me', 'my', 'myself', 'we', 'our', 'ours', 'ourselves', 'you', \"you're\"]"
      ]
     },
     "execution_count": 64,
     "metadata": {},
     "output_type": "execute_result"
    }
   ],
   "source": [
    "#nltk.download('punkt')\n",
    "#nltk.download('stopwords')\n",
    "\n",
    "# 불용어 리스트\n",
    "stop_word_list = stopwords.words('english')\n",
    "stop_word_list[:10]"
   ]
  },
  {
   "cell_type": "code",
   "execution_count": 65,
   "id": "aa890492",
   "metadata": {},
   "outputs": [
    {
     "data": {
      "text/html": [
       "<div>\n",
       "<style scoped>\n",
       "    .dataframe tbody tr th:only-of-type {\n",
       "        vertical-align: middle;\n",
       "    }\n",
       "\n",
       "    .dataframe tbody tr th {\n",
       "        vertical-align: top;\n",
       "    }\n",
       "\n",
       "    .dataframe thead th {\n",
       "        text-align: right;\n",
       "    }\n",
       "</style>\n",
       "<table border=\"1\" class=\"dataframe\">\n",
       "  <thead>\n",
       "    <tr style=\"text-align: right;\">\n",
       "      <th></th>\n",
       "      <th>v1</th>\n",
       "      <th>v2</th>\n",
       "      <th>v2_tokenized</th>\n",
       "    </tr>\n",
       "  </thead>\n",
       "  <tbody>\n",
       "    <tr>\n",
       "      <th>0</th>\n",
       "      <td>ham</td>\n",
       "      <td>go until jurong point crazy available only in ...</td>\n",
       "      <td>[go, jurong, point, crazy, available, bugis, n...</td>\n",
       "    </tr>\n",
       "    <tr>\n",
       "      <th>1</th>\n",
       "      <td>ham</td>\n",
       "      <td>ok lar joking wif u oni</td>\n",
       "      <td>[ok, lar, joking, wif, u, oni]</td>\n",
       "    </tr>\n",
       "    <tr>\n",
       "      <th>2</th>\n",
       "      <td>spam</td>\n",
       "      <td>free entry in a wkly comp to win fa cup final ...</td>\n",
       "      <td>[free, entry, wkly, comp, win, fa, cup, final,...</td>\n",
       "    </tr>\n",
       "    <tr>\n",
       "      <th>3</th>\n",
       "      <td>ham</td>\n",
       "      <td>u dun say so early hor u c already then say</td>\n",
       "      <td>[u, dun, say, early, hor, u, c, already, say]</td>\n",
       "    </tr>\n",
       "    <tr>\n",
       "      <th>4</th>\n",
       "      <td>ham</td>\n",
       "      <td>nah i don t think he goes to usf he lives arou...</td>\n",
       "      <td>[nah, think, goes, usf, lives, around, though]</td>\n",
       "    </tr>\n",
       "  </tbody>\n",
       "</table>\n",
       "</div>"
      ],
      "text/plain": [
       "     v1                                                 v2  \\\n",
       "0   ham  go until jurong point crazy available only in ...   \n",
       "1   ham                           ok lar joking wif u oni    \n",
       "2  spam  free entry in a wkly comp to win fa cup final ...   \n",
       "3   ham       u dun say so early hor u c already then say    \n",
       "4   ham  nah i don t think he goes to usf he lives arou...   \n",
       "\n",
       "                                        v2_tokenized  \n",
       "0  [go, jurong, point, crazy, available, bugis, n...  \n",
       "1                     [ok, lar, joking, wif, u, oni]  \n",
       "2  [free, entry, wkly, comp, win, fa, cup, final,...  \n",
       "3      [u, dun, say, early, hor, u, c, already, say]  \n",
       "4     [nah, think, goes, usf, lives, around, though]  "
      ]
     },
     "execution_count": 65,
     "metadata": {},
     "output_type": "execute_result"
    }
   ],
   "source": [
    "# 토큰화 및 불용어 제거\n",
    "def remove_stopwords(text):\n",
    "    tokens = word_tokenize(text)\n",
    "    tokens_wo_stop = [word for word in tokens if word.lower() not in stop_word_list]\n",
    "    return tokens_wo_stop\n",
    "\n",
    "df['v2_tokenized'] = df['v2'].apply(remove_stopwords)\n",
    "df.head()"
   ]
  },
  {
   "cell_type": "markdown",
   "id": "5f15f3f4",
   "metadata": {},
   "source": [
    "## Word Embedding"
   ]
  },
  {
   "cell_type": "markdown",
   "id": "1824ab7c",
   "metadata": {},
   "source": [
    "### 1. CBOW\n",
    "\n",
    "단어의 문맥적 의미를 보존하면서 단어를 벡터로 표현하는 방법으로, 주변 N개의 단어들로 target 단어를 예측한다."
   ]
  },
  {
   "cell_type": "code",
   "execution_count": 107,
   "id": "211809ba",
   "metadata": {},
   "outputs": [],
   "source": [
    "cbow = Word2Vec(sentences=df['v2_tokenized'].tolist(), size=100, window=5, min_count=5, sg=0) # sg=0"
   ]
  },
  {
   "cell_type": "markdown",
   "id": "c6600e7d",
   "metadata": {},
   "source": [
    "### 2. Skip-gram\n",
    "단어의 문맥적 의미를 보존하면서 단어를 벡터로 표현하는 방법으로, target 단어로 주변 N개 단어 등장여부를 예측한다. "
   ]
  },
  {
   "cell_type": "code",
   "execution_count": 69,
   "id": "ca839692",
   "metadata": {},
   "outputs": [],
   "source": [
    "skip_gram = Word2Vec(sentences=df['v2_tokenized'].tolist(), size=100, window=5, min_count=5, sg=1) # sg=1"
   ]
  },
  {
   "cell_type": "markdown",
   "id": "f49ed1cb",
   "metadata": {},
   "source": [
    "### 3. FastText"
   ]
  },
  {
   "cell_type": "code",
   "execution_count": 75,
   "id": "4a821f1b",
   "metadata": {},
   "outputs": [],
   "source": [
    "fast_text = FastText(df['v2_tokenized'].tolist(), size=100, window=5, min_count=5, workers=5, sg=1)"
   ]
  },
  {
   "cell_type": "markdown",
   "id": "40e2d11d",
   "metadata": {},
   "source": [
    "## 이진분류 SVM"
   ]
  },
  {
   "cell_type": "code",
   "execution_count": 104,
   "id": "9aa1acfd",
   "metadata": {},
   "outputs": [],
   "source": [
    "import numpy as np\n",
    "\n",
    "def SentenceVector(text, size, model):\n",
    "    vec = np.zeros(size).reshape((1, size))\n",
    "    count = 0\n",
    "    for word in text:\n",
    "        try:\n",
    "            vec += model.wv[word].reshape((1, size))\n",
    "            count += 1.\n",
    "        except KeyError:  # 모델에 없는 단어는 무시\n",
    "            continue\n",
    "    if count != 0:\n",
    "        vec /= count\n",
    "    return vec"
   ]
  },
  {
   "cell_type": "code",
   "execution_count": 112,
   "id": "dd92db55",
   "metadata": {},
   "outputs": [],
   "source": [
    "def svc_model(embedding_model) :\n",
    "    sent_vec = np.concatenate(\n",
    "        [SentenceVector(z, 100, embedding_model) for z in df['v2_tokenized']])\n",
    "    \n",
    "    X_train, X_test, y_train, y_test = train_test_split(sent_vec, df['v1'], test_size=0.2, random_state=42)\n",
    "    \n",
    "    svm = SVC(kernel='linear')\n",
    "    svm.fit(X_train, y_train)\n",
    "    y_pred = svm.predict(X_test)\n",
    "    \n",
    "    return classification_report(y_test, y_pred)"
   ]
  },
  {
   "cell_type": "code",
   "execution_count": 115,
   "id": "b5f2e51f",
   "metadata": {},
   "outputs": [
    {
     "name": "stdout",
     "output_type": "stream",
     "text": [
      "              precision    recall  f1-score   support\n",
      "\n",
      "           0       0.86      1.00      0.92       889\n",
      "           1       0.00      0.00      0.00       145\n",
      "\n",
      "    accuracy                           0.86      1034\n",
      "   macro avg       0.43      0.50      0.46      1034\n",
      "weighted avg       0.74      0.86      0.79      1034\n",
      "\n"
     ]
    }
   ],
   "source": [
    "# cbow \n",
    "print(svc_model(cbow))"
   ]
  },
  {
   "cell_type": "code",
   "execution_count": 116,
   "id": "a177f88c",
   "metadata": {},
   "outputs": [
    {
     "name": "stdout",
     "output_type": "stream",
     "text": [
      "              precision    recall  f1-score   support\n",
      "\n",
      "           0       0.97      0.98      0.98       889\n",
      "           1       0.86      0.83      0.85       145\n",
      "\n",
      "    accuracy                           0.96      1034\n",
      "   macro avg       0.92      0.90      0.91      1034\n",
      "weighted avg       0.96      0.96      0.96      1034\n",
      "\n"
     ]
    }
   ],
   "source": [
    "print(svc_model(skip_gram))"
   ]
  },
  {
   "cell_type": "code",
   "execution_count": 117,
   "id": "3a776f56",
   "metadata": {},
   "outputs": [
    {
     "name": "stdout",
     "output_type": "stream",
     "text": [
      "              precision    recall  f1-score   support\n",
      "\n",
      "           0       0.97      0.98      0.98       889\n",
      "           1       0.88      0.83      0.86       145\n",
      "\n",
      "    accuracy                           0.96      1034\n",
      "   macro avg       0.93      0.91      0.92      1034\n",
      "weighted avg       0.96      0.96      0.96      1034\n",
      "\n"
     ]
    }
   ],
   "source": [
    "print(svc_model(fast_text))"
   ]
  },
  {
   "cell_type": "code",
   "execution_count": 119,
   "id": "874e3f7e",
   "metadata": {},
   "outputs": [
    {
     "name": "stdout",
     "output_type": "stream",
     "text": [
      "최적의 임계값: -0.9899999999999991, 최대 F1-Score: 0.785498489425982\n"
     ]
    }
   ],
   "source": [
    "sent_vec = np.concatenate(\n",
    "        [SentenceVector(z, 100, cbow) for z in df['v2_tokenized']])\n",
    "    \n",
    "X_train, X_test, y_train, y_test = train_test_split(sent_vec, df['v1'], test_size=0.2, random_state=42)\n",
    "    \n",
    "svm = SVC(kernel='linear')\n",
    "svm.fit(X_train, y_train)\n",
    "    \n",
    "# 결정 함수를 사용하여 테스트 샘플에 대한 점수 계산\n",
    "decision_scores = svm.decision_function(X_test)\n",
    "\n",
    "# 임계값의 범위 설정 (예: -2에서 2까지 0.01 단위로)\n",
    "thresholds = np.arange(-2, 2, 0.01)\n",
    "\n",
    "# 각 임계값에 대한 F1-Score 계산\n",
    "f1_scores = []\n",
    "for thresh in thresholds:\n",
    "    # 임계값을 적용하여 이진 예측 생성\n",
    "    y_pred_thresh = (decision_scores > thresh).astype(int)\n",
    "    \n",
    "    # F1-Score 계산 및 저장\n",
    "    f1 = f1_score(y_test, y_pred_thresh)\n",
    "    f1_scores.append(f1)\n",
    "\n",
    "# 최대 F1-Score 및 해당 임계값 찾기\n",
    "max_f1 = np.max(f1_scores)\n",
    "optimal_thresh = thresholds[f1_scores.index(max_f1)]\n",
    "\n",
    "print(f'최적의 임계값: {optimal_thresh}, 최대 F1-Score: {max_f1}')"
   ]
  },
  {
   "cell_type": "markdown",
   "id": "02f260ae",
   "metadata": {},
   "source": [
    "- 스팸 메일 데이터는 'ham'으로 편향된 데이터이며, 스팸 메일을 더 정밀하게 분류하기 위해 최종 평가 지표는 f1 score 값으로 설정하되, recall에 집중하고자 한다. \n",
    "\n",
    "- skip_gram과 fast_text의 recall 값은 동일하며 모두 높은 f1 score 값을 보이고 있다.반면, cbow 임베딩 모델을 적용한 경우는 recall 및 f1-score 값이 0으로 나왔다. 이는 데이터 불균형 문제 또는 임계값 설정에 따른 결과일 수 있을 것이라 판단하여, 위와 같이 최적의 임계값을 찾아나갔다. 그러나, 이에 대한 최적의 f1-score 값도 약 0.78로 다른 결과보다 현저히 낮은 것으로 나타났다.\n",
    "- 따라서, f1-score 기준 fast_text의 성능이 가장 좋은 것으로 나타났다. \n"
   ]
  }
 ],
 "metadata": {
  "kernelspec": {
   "display_name": "Python 3 (ipykernel)",
   "language": "python",
   "name": "python3"
  },
  "language_info": {
   "codemirror_mode": {
    "name": "ipython",
    "version": 3
   },
   "file_extension": ".py",
   "mimetype": "text/x-python",
   "name": "python",
   "nbconvert_exporter": "python",
   "pygments_lexer": "ipython3",
   "version": "3.9.13"
  }
 },
 "nbformat": 4,
 "nbformat_minor": 5
}
